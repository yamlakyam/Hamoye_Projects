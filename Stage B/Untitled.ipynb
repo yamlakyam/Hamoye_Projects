{
 "cells": [
  {
   "cell_type": "code",
   "execution_count": 1,
   "id": "20c59a15",
   "metadata": {},
   "outputs": [
    {
     "name": "stdout",
     "output_type": "stream",
     "text": [
      " Volume in drive C is Windows \n",
      " Volume Serial Number is 04F5-FC96\n",
      "\n",
      " Directory of C:\\Users\\Yamlak\\Documents\\Summer Internship\\Hamoye\\Hamoye Projects\\Stage B\n",
      "\n",
      "12/06/2023  12:20    <DIR>          .\n",
      "12/06/2023  12:19    <DIR>          ..\n",
      "12/06/2023  12:19    <DIR>          .ipynb_checkpoints\n",
      "12/06/2023  12:16            76,189 ENB2012_data.xlsx\n",
      "12/06/2023  12:19                72 Untitled.ipynb\n",
      "               2 File(s)         76,261 bytes\n",
      "               3 Dir(s)  197,147,914,240 bytes free\n"
     ]
    }
   ],
   "source": [
    "%ls"
   ]
  },
  {
   "cell_type": "code",
   "execution_count": 4,
   "id": "c0314d09",
   "metadata": {},
   "outputs": [],
   "source": [
    "import pandas as pd\n",
    "import matplotlib.pyplot as plt\n",
    "import seaborn as sns\n",
    "\n",
    "\n",
    "import warnings\n",
    "warnings.filterwarnings(\"ignore\")"
   ]
  },
  {
   "cell_type": "code",
   "execution_count": 5,
   "id": "10c9df9c",
   "metadata": {},
   "outputs": [],
   "source": [
    "df = pd.read_excel('ENB2012_data.xlsx')"
   ]
  },
  {
   "cell_type": "code",
   "execution_count": null,
   "id": "facc15dc",
   "metadata": {},
   "outputs": [],
   "source": [
    "# Renaming columns\n",
    "\n",
    "column_names = {'X1': 'Relative_Compactness', \n",
    "                'X2':'Surface_Area', \n",
    "                'X3': 'Wall_Area',\n",
    "                'X4': 'Roof_Area',\n",
    "                'X5': 'Overall_Height',\n",
    "                'X6': 'Orientation',\n",
    "                'X7': 'Glazing_Area',\n",
    "                'X8': 'Glazing_Area_Distribution',\n",
    "                'Y1': 'Heating_Load',\n",
    "                'Y2': 'Cooling_Load'\n",
    "               }\n",
    "\n",
    "df = df.renma"
   ]
  }
 ],
 "metadata": {
  "kernelspec": {
   "display_name": "Python 3",
   "language": "python",
   "name": "python3"
  },
  "language_info": {
   "codemirror_mode": {
    "name": "ipython",
    "version": 3
   },
   "file_extension": ".py",
   "mimetype": "text/x-python",
   "name": "python",
   "nbconvert_exporter": "python",
   "pygments_lexer": "ipython3",
   "version": "3.9.12"
  }
 },
 "nbformat": 4,
 "nbformat_minor": 5
}
