{
 "cells": [
  {
   "cell_type": "code",
   "execution_count": 4,
   "id": "c3047483",
   "metadata": {},
   "outputs": [],
   "source": [
    "import pandas as pd\n",
    "import matplotlib.pyplot as plt"
   ]
  },
  {
   "cell_type": "code",
   "execution_count": 5,
   "id": "f76fd797",
   "metadata": {},
   "outputs": [
    {
     "name": "stdout",
     "output_type": "stream",
     "text": [
      " Volume in drive C is Windows \n",
      " Volume Serial Number is 04F5-FC96\n",
      "\n",
      " Directory of C:\\Users\\Yamlak\\Documents\\Summer Internship\\Hamoye\\Hamoye Projects\\Stage C\n",
      "\n",
      "23/06/2023  09:33    <DIR>          .\n",
      "23/06/2023  09:30    <DIR>          ..\n",
      "23/06/2023  09:32    <DIR>          .ipynb_checkpoints\n",
      "23/06/2023  09:33               577 Ecological Footprint Anlaysis.ipynb\n",
      "23/06/2023  09:33    <DIR>          footprint-nfa-2019-edition\n",
      "               1 File(s)            577 bytes\n",
      "               4 Dir(s)  189,629,296,640 bytes free\n"
     ]
    }
   ],
   "source": [
    "%ls"
   ]
  },
  {
   "cell_type": "code",
   "execution_count": null,
   "id": "07c9a4f4",
   "metadata": {},
   "outputs": [],
   "source": []
  }
 ],
 "metadata": {
  "kernelspec": {
   "display_name": "Python 3",
   "language": "python",
   "name": "python3"
  },
  "language_info": {
   "codemirror_mode": {
    "name": "ipython",
    "version": 3
   },
   "file_extension": ".py",
   "mimetype": "text/x-python",
   "name": "python",
   "nbconvert_exporter": "python",
   "pygments_lexer": "ipython3",
   "version": "3.9.12"
  }
 },
 "nbformat": 4,
 "nbformat_minor": 5
}
