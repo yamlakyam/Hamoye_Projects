{
 "cells": [
  {
   "cell_type": "code",
   "execution_count": 1,
   "id": "405858e5",
   "metadata": {},
   "outputs": [],
   "source": [
    "# pip install imblearn"
   ]
  },
  {
   "cell_type": "code",
   "execution_count": 44,
   "id": "28617fc8",
   "metadata": {},
   "outputs": [],
   "source": [
    "import warnings\n",
    "import pandas as pd\n",
    "import matplotlib.pyplot as plt\n",
    "\n",
    "warnings.filterwarnings(\"ignore\")\n",
    "\n",
    "import sklearn.utils \n",
    "from sklearn.model_selection import train_test_split\n",
    "from sklearn.preprocessing import LabelEncoder\n",
    "import imblearn\n",
    "from imblearn.over_sampling import SMOTE\n",
    "from sklearn.preprocessing import MinMaxScaler \n",
    "from sklearn.linear_model import LogisticRegression \n",
    "from sklearn.model_selection import cross_val_score, KFold, StratifiedKFold, LeaveOneOut\n",
    "\n",
    "from sklearn.metrics import f1_score, recall_score, accuracy_score, precision_score, f1_score, confusion_matrix\n",
    "import numpy as np\n",
    "\n",
    "from sklearn.tree import DecisionTreeClassifier\n",
    "\n"
   ]
  },
  {
   "cell_type": "code",
   "execution_count": 45,
   "id": "73ff9ac9",
   "metadata": {},
   "outputs": [
    {
     "name": "stdout",
     "output_type": "stream",
     "text": [
      " Volume in drive C is Windows \n",
      " Volume Serial Number is 04F5-FC96\n",
      "\n",
      " Directory of C:\\Users\\Yamlak\\Documents\\Summer Internship\\Hamoye\\Hamoye Projects\\Stage C\n",
      "\n",
      "26/06/2023  11:30    <DIR>          .\n",
      "23/06/2023  09:30    <DIR>          ..\n",
      "23/06/2023  09:32    <DIR>          .ipynb_checkpoints\n",
      "26/06/2023  11:30            43,148 Ecological Footprint Anlaysis.ipynb\n",
      "23/06/2023  09:33    <DIR>          footprint-nfa-2019-edition\n",
      "               1 File(s)         43,148 bytes\n",
      "               4 Dir(s)  170,513,563,648 bytes free\n"
     ]
    }
   ],
   "source": [
    "%ls"
   ]
  },
  {
   "cell_type": "code",
   "execution_count": 46,
   "id": "1befca01",
   "metadata": {},
   "outputs": [
    {
     "data": {
      "text/html": [
       "<div>\n",
       "<style scoped>\n",
       "    .dataframe tbody tr th:only-of-type {\n",
       "        vertical-align: middle;\n",
       "    }\n",
       "\n",
       "    .dataframe tbody tr th {\n",
       "        vertical-align: top;\n",
       "    }\n",
       "\n",
       "    .dataframe thead th {\n",
       "        text-align: right;\n",
       "    }\n",
       "</style>\n",
       "<table border=\"1\" class=\"dataframe\">\n",
       "  <thead>\n",
       "    <tr style=\"text-align: right;\">\n",
       "      <th></th>\n",
       "      <th>country</th>\n",
       "      <th>year</th>\n",
       "      <th>country_code</th>\n",
       "      <th>record</th>\n",
       "      <th>crop_land</th>\n",
       "      <th>grazing_land</th>\n",
       "      <th>forest_land</th>\n",
       "      <th>fishing_ground</th>\n",
       "      <th>built_up_land</th>\n",
       "      <th>carbon</th>\n",
       "      <th>total</th>\n",
       "      <th>QScore</th>\n",
       "    </tr>\n",
       "  </thead>\n",
       "  <tbody>\n",
       "    <tr>\n",
       "      <th>0</th>\n",
       "      <td>Armenia</td>\n",
       "      <td>1992</td>\n",
       "      <td>1</td>\n",
       "      <td>AreaPerCap</td>\n",
       "      <td>1.402924e-01</td>\n",
       "      <td>1.995463e-01</td>\n",
       "      <td>0.097188051</td>\n",
       "      <td>3.688847e-02</td>\n",
       "      <td>2.931995e-02</td>\n",
       "      <td>0.000000e+00</td>\n",
       "      <td>5.032351e-01</td>\n",
       "      <td>3A</td>\n",
       "    </tr>\n",
       "    <tr>\n",
       "      <th>1</th>\n",
       "      <td>Armenia</td>\n",
       "      <td>1992</td>\n",
       "      <td>1</td>\n",
       "      <td>AreaTotHA</td>\n",
       "      <td>4.830000e+05</td>\n",
       "      <td>6.870000e+05</td>\n",
       "      <td>334600</td>\n",
       "      <td>1.270000e+05</td>\n",
       "      <td>1.009430e+05</td>\n",
       "      <td>0.000000e+00</td>\n",
       "      <td>1.732543e+06</td>\n",
       "      <td>3A</td>\n",
       "    </tr>\n",
       "    <tr>\n",
       "      <th>2</th>\n",
       "      <td>Armenia</td>\n",
       "      <td>1992</td>\n",
       "      <td>1</td>\n",
       "      <td>BiocapPerCap</td>\n",
       "      <td>1.598044e-01</td>\n",
       "      <td>1.352610e-01</td>\n",
       "      <td>0.084003213</td>\n",
       "      <td>1.374213e-02</td>\n",
       "      <td>3.339780e-02</td>\n",
       "      <td>0.000000e+00</td>\n",
       "      <td>4.262086e-01</td>\n",
       "      <td>3A</td>\n",
       "    </tr>\n",
       "    <tr>\n",
       "      <th>3</th>\n",
       "      <td>Armenia</td>\n",
       "      <td>1992</td>\n",
       "      <td>1</td>\n",
       "      <td>BiocapTotGHA</td>\n",
       "      <td>5.501762e+05</td>\n",
       "      <td>4.656780e+05</td>\n",
       "      <td>289207.1078</td>\n",
       "      <td>4.731155e+04</td>\n",
       "      <td>1.149823e+05</td>\n",
       "      <td>0.000000e+00</td>\n",
       "      <td>1.467355e+06</td>\n",
       "      <td>3A</td>\n",
       "    </tr>\n",
       "    <tr>\n",
       "      <th>4</th>\n",
       "      <td>Armenia</td>\n",
       "      <td>1992</td>\n",
       "      <td>1</td>\n",
       "      <td>EFConsPerCap</td>\n",
       "      <td>3.875102e-01</td>\n",
       "      <td>1.894622e-01</td>\n",
       "      <td>1.26E-06</td>\n",
       "      <td>4.164833e-03</td>\n",
       "      <td>3.339780e-02</td>\n",
       "      <td>1.114093e+00</td>\n",
       "      <td>1.728629e+00</td>\n",
       "      <td>3A</td>\n",
       "    </tr>\n",
       "    <tr>\n",
       "      <th>...</th>\n",
       "      <td>...</td>\n",
       "      <td>...</td>\n",
       "      <td>...</td>\n",
       "      <td>...</td>\n",
       "      <td>...</td>\n",
       "      <td>...</td>\n",
       "      <td>...</td>\n",
       "      <td>...</td>\n",
       "      <td>...</td>\n",
       "      <td>...</td>\n",
       "      <td>...</td>\n",
       "      <td>...</td>\n",
       "    </tr>\n",
       "    <tr>\n",
       "      <th>72181</th>\n",
       "      <td>World</td>\n",
       "      <td>2016</td>\n",
       "      <td>5001</td>\n",
       "      <td>BiocapTotGHA</td>\n",
       "      <td>3.984702e+09</td>\n",
       "      <td>1.504757e+09</td>\n",
       "      <td>5111762779.0</td>\n",
       "      <td>1.095445e+09</td>\n",
       "      <td>4.726163e+08</td>\n",
       "      <td>0.000000e+00</td>\n",
       "      <td>1.216928e+10</td>\n",
       "      <td>3A</td>\n",
       "    </tr>\n",
       "    <tr>\n",
       "      <th>72182</th>\n",
       "      <td>World</td>\n",
       "      <td>2016</td>\n",
       "      <td>5001</td>\n",
       "      <td>EFConsPerCap</td>\n",
       "      <td>5.336445e-01</td>\n",
       "      <td>1.402092e-01</td>\n",
       "      <td>0.273495</td>\n",
       "      <td>8.974253e-02</td>\n",
       "      <td>6.329435e-02</td>\n",
       "      <td>1.646235e+00</td>\n",
       "      <td>2.746619e+00</td>\n",
       "      <td>3A</td>\n",
       "    </tr>\n",
       "    <tr>\n",
       "      <th>72183</th>\n",
       "      <td>World</td>\n",
       "      <td>2016</td>\n",
       "      <td>5001</td>\n",
       "      <td>EFConsTotGHA</td>\n",
       "      <td>3.984702e+09</td>\n",
       "      <td>1.046937e+09</td>\n",
       "      <td>2042179333.0</td>\n",
       "      <td>6.701039e+08</td>\n",
       "      <td>4.726163e+08</td>\n",
       "      <td>1.229237e+10</td>\n",
       "      <td>2.050891e+10</td>\n",
       "      <td>3A</td>\n",
       "    </tr>\n",
       "    <tr>\n",
       "      <th>72184</th>\n",
       "      <td>World</td>\n",
       "      <td>2016</td>\n",
       "      <td>5001</td>\n",
       "      <td>EFProdPerCap</td>\n",
       "      <td>5.336445e-01</td>\n",
       "      <td>1.402092e-01</td>\n",
       "      <td>0.273495</td>\n",
       "      <td>8.974253e-02</td>\n",
       "      <td>6.329435e-02</td>\n",
       "      <td>1.646235e+00</td>\n",
       "      <td>2.746619e+00</td>\n",
       "      <td>3A</td>\n",
       "    </tr>\n",
       "    <tr>\n",
       "      <th>72185</th>\n",
       "      <td>World</td>\n",
       "      <td>2016</td>\n",
       "      <td>5001</td>\n",
       "      <td>EFProdTotGHA</td>\n",
       "      <td>3.984702e+09</td>\n",
       "      <td>1.046937e+09</td>\n",
       "      <td>2042179333.0</td>\n",
       "      <td>6.701039e+08</td>\n",
       "      <td>4.726163e+08</td>\n",
       "      <td>1.229237e+10</td>\n",
       "      <td>2.050891e+10</td>\n",
       "      <td>3A</td>\n",
       "    </tr>\n",
       "  </tbody>\n",
       "</table>\n",
       "<p>72186 rows × 12 columns</p>\n",
       "</div>"
      ],
      "text/plain": [
       "       country  year  country_code        record     crop_land  grazing_land  \\\n",
       "0      Armenia  1992             1    AreaPerCap  1.402924e-01  1.995463e-01   \n",
       "1      Armenia  1992             1     AreaTotHA  4.830000e+05  6.870000e+05   \n",
       "2      Armenia  1992             1  BiocapPerCap  1.598044e-01  1.352610e-01   \n",
       "3      Armenia  1992             1  BiocapTotGHA  5.501762e+05  4.656780e+05   \n",
       "4      Armenia  1992             1  EFConsPerCap  3.875102e-01  1.894622e-01   \n",
       "...        ...   ...           ...           ...           ...           ...   \n",
       "72181    World  2016          5001  BiocapTotGHA  3.984702e+09  1.504757e+09   \n",
       "72182    World  2016          5001  EFConsPerCap  5.336445e-01  1.402092e-01   \n",
       "72183    World  2016          5001  EFConsTotGHA  3.984702e+09  1.046937e+09   \n",
       "72184    World  2016          5001  EFProdPerCap  5.336445e-01  1.402092e-01   \n",
       "72185    World  2016          5001  EFProdTotGHA  3.984702e+09  1.046937e+09   \n",
       "\n",
       "        forest_land  fishing_ground  built_up_land        carbon  \\\n",
       "0       0.097188051    3.688847e-02   2.931995e-02  0.000000e+00   \n",
       "1            334600    1.270000e+05   1.009430e+05  0.000000e+00   \n",
       "2       0.084003213    1.374213e-02   3.339780e-02  0.000000e+00   \n",
       "3       289207.1078    4.731155e+04   1.149823e+05  0.000000e+00   \n",
       "4          1.26E-06    4.164833e-03   3.339780e-02  1.114093e+00   \n",
       "...             ...             ...            ...           ...   \n",
       "72181  5111762779.0    1.095445e+09   4.726163e+08  0.000000e+00   \n",
       "72182      0.273495    8.974253e-02   6.329435e-02  1.646235e+00   \n",
       "72183  2042179333.0    6.701039e+08   4.726163e+08  1.229237e+10   \n",
       "72184      0.273495    8.974253e-02   6.329435e-02  1.646235e+00   \n",
       "72185  2042179333.0    6.701039e+08   4.726163e+08  1.229237e+10   \n",
       "\n",
       "              total QScore  \n",
       "0      5.032351e-01     3A  \n",
       "1      1.732543e+06     3A  \n",
       "2      4.262086e-01     3A  \n",
       "3      1.467355e+06     3A  \n",
       "4      1.728629e+00     3A  \n",
       "...             ...    ...  \n",
       "72181  1.216928e+10     3A  \n",
       "72182  2.746619e+00     3A  \n",
       "72183  2.050891e+10     3A  \n",
       "72184  2.746619e+00     3A  \n",
       "72185  2.050891e+10     3A  \n",
       "\n",
       "[72186 rows x 12 columns]"
      ]
     },
     "execution_count": 46,
     "metadata": {},
     "output_type": "execute_result"
    }
   ],
   "source": [
    "df = pd.read_csv( 'https://query.data.world/s/wh6j7rxy2hvrn4ml75ci62apk5hgae' ) \n",
    "df"
   ]
  },
  {
   "cell_type": "code",
   "execution_count": 47,
   "id": "eb289462",
   "metadata": {},
   "outputs": [
    {
     "data": {
      "text/plain": [
       "3A    51481\n",
       "2A    10576\n",
       "2B    10096\n",
       "1A       16\n",
       "1B       16\n",
       "Name: QScore, dtype: int64"
      ]
     },
     "execution_count": 47,
     "metadata": {},
     "output_type": "execute_result"
    }
   ],
   "source": [
    "df[ 'QScore' ].value_counts()"
   ]
  },
  {
   "cell_type": "code",
   "execution_count": 48,
   "id": "6f098545",
   "metadata": {},
   "outputs": [
    {
     "data": {
      "text/plain": [
       "country               0\n",
       "year                  0\n",
       "country_code          0\n",
       "record                0\n",
       "crop_land         20472\n",
       "grazing_land      20472\n",
       "forest_land       20472\n",
       "fishing_ground    20473\n",
       "built_up_land     20473\n",
       "carbon            20473\n",
       "total                 9\n",
       "QScore                1\n",
       "dtype: int64"
      ]
     },
     "execution_count": 48,
     "metadata": {},
     "output_type": "execute_result"
    }
   ],
   "source": [
    "df.isna().sum() \n"
   ]
  },
  {
   "cell_type": "code",
   "execution_count": 49,
   "id": "06d5692f",
   "metadata": {},
   "outputs": [
    {
     "data": {
      "text/plain": [
       "country           0\n",
       "year              0\n",
       "country_code      0\n",
       "record            0\n",
       "crop_land         0\n",
       "grazing_land      0\n",
       "forest_land       0\n",
       "fishing_ground    0\n",
       "built_up_land     0\n",
       "carbon            0\n",
       "total             0\n",
       "QScore            0\n",
       "dtype: int64"
      ]
     },
     "execution_count": 49,
     "metadata": {},
     "output_type": "execute_result"
    }
   ],
   "source": [
    "df = df.dropna()\n",
    "df.isna().sum() \n"
   ]
  },
  {
   "cell_type": "code",
   "execution_count": 50,
   "id": "9be2396a",
   "metadata": {},
   "outputs": [
    {
     "data": {
      "text/plain": [
       "3A    51473\n",
       "2A      240\n",
       "Name: QScore, dtype: int64"
      ]
     },
     "execution_count": 50,
     "metadata": {},
     "output_type": "execute_result"
    }
   ],
   "source": [
    "df[ 'QScore' ] = df[ 'QScore' ].replace([ '1A' ], '2A' )\n",
    "df.QScore.value_counts() "
   ]
  },
  {
   "cell_type": "code",
   "execution_count": 51,
   "id": "1bb2d1d7",
   "metadata": {},
   "outputs": [
    {
     "data": {
      "text/html": [
       "<div>\n",
       "<style scoped>\n",
       "    .dataframe tbody tr th:only-of-type {\n",
       "        vertical-align: middle;\n",
       "    }\n",
       "\n",
       "    .dataframe tbody tr th {\n",
       "        vertical-align: top;\n",
       "    }\n",
       "\n",
       "    .dataframe thead th {\n",
       "        text-align: right;\n",
       "    }\n",
       "</style>\n",
       "<table border=\"1\" class=\"dataframe\">\n",
       "  <thead>\n",
       "    <tr style=\"text-align: right;\">\n",
       "      <th></th>\n",
       "      <th>country</th>\n",
       "      <th>year</th>\n",
       "      <th>country_code</th>\n",
       "      <th>record</th>\n",
       "      <th>crop_land</th>\n",
       "      <th>grazing_land</th>\n",
       "      <th>forest_land</th>\n",
       "      <th>fishing_ground</th>\n",
       "      <th>built_up_land</th>\n",
       "      <th>carbon</th>\n",
       "      <th>total</th>\n",
       "      <th>QScore</th>\n",
       "    </tr>\n",
       "  </thead>\n",
       "  <tbody>\n",
       "    <tr>\n",
       "      <th>1536</th>\n",
       "      <td>Algeria</td>\n",
       "      <td>2016</td>\n",
       "      <td>4</td>\n",
       "      <td>AreaPerCap</td>\n",
       "      <td>2.072989e-01</td>\n",
       "      <td>8.112722e-01</td>\n",
       "      <td>0.048357265</td>\n",
       "      <td>2.258528e-02</td>\n",
       "      <td>2.998367e-02</td>\n",
       "      <td>0.000000</td>\n",
       "      <td>1.119497e+00</td>\n",
       "      <td>2A</td>\n",
       "    </tr>\n",
       "    <tr>\n",
       "      <th>1537</th>\n",
       "      <td>Algeria</td>\n",
       "      <td>2016</td>\n",
       "      <td>4</td>\n",
       "      <td>AreaTotHA</td>\n",
       "      <td>8.417600e+06</td>\n",
       "      <td>3.294260e+07</td>\n",
       "      <td>1963600</td>\n",
       "      <td>9.171000e+05</td>\n",
       "      <td>1.217520e+06</td>\n",
       "      <td>0.000000</td>\n",
       "      <td>4.545842e+07</td>\n",
       "      <td>2A</td>\n",
       "    </tr>\n",
       "    <tr>\n",
       "      <th>1538</th>\n",
       "      <td>Algeria</td>\n",
       "      <td>2016</td>\n",
       "      <td>4</td>\n",
       "      <td>BiocapPerCap</td>\n",
       "      <td>2.021916e-01</td>\n",
       "      <td>2.636077e-01</td>\n",
       "      <td>0.027166736</td>\n",
       "      <td>7.947991e-03</td>\n",
       "      <td>2.924496e-02</td>\n",
       "      <td>0.000000</td>\n",
       "      <td>5.301590e-01</td>\n",
       "      <td>2A</td>\n",
       "    </tr>\n",
       "    <tr>\n",
       "      <th>1539</th>\n",
       "      <td>Algeria</td>\n",
       "      <td>2016</td>\n",
       "      <td>4</td>\n",
       "      <td>BiocapTotGHA</td>\n",
       "      <td>8.210214e+06</td>\n",
       "      <td>1.070408e+07</td>\n",
       "      <td>1103135.245</td>\n",
       "      <td>3.227369e+05</td>\n",
       "      <td>1.187524e+06</td>\n",
       "      <td>0.000000</td>\n",
       "      <td>2.152769e+07</td>\n",
       "      <td>2A</td>\n",
       "    </tr>\n",
       "    <tr>\n",
       "      <th>1540</th>\n",
       "      <td>Algeria</td>\n",
       "      <td>2016</td>\n",
       "      <td>4</td>\n",
       "      <td>EFConsPerCap</td>\n",
       "      <td>6.280528e-01</td>\n",
       "      <td>1.810332e-01</td>\n",
       "      <td>0.162800822</td>\n",
       "      <td>1.472910e-02</td>\n",
       "      <td>2.924496e-02</td>\n",
       "      <td>1.391455</td>\n",
       "      <td>2.407316e+00</td>\n",
       "      <td>2A</td>\n",
       "    </tr>\n",
       "    <tr>\n",
       "      <th>...</th>\n",
       "      <td>...</td>\n",
       "      <td>...</td>\n",
       "      <td>...</td>\n",
       "      <td>...</td>\n",
       "      <td>...</td>\n",
       "      <td>...</td>\n",
       "      <td>...</td>\n",
       "      <td>...</td>\n",
       "      <td>...</td>\n",
       "      <td>...</td>\n",
       "      <td>...</td>\n",
       "      <td>...</td>\n",
       "    </tr>\n",
       "    <tr>\n",
       "      <th>56631</th>\n",
       "      <td>Somalia</td>\n",
       "      <td>1984</td>\n",
       "      <td>201</td>\n",
       "      <td>EFConsTotGHA</td>\n",
       "      <td>1.184389e+06</td>\n",
       "      <td>5.775389e+06</td>\n",
       "      <td>2267922.949</td>\n",
       "      <td>2.925310e+04</td>\n",
       "      <td>2.985595e+05</td>\n",
       "      <td>416523.235300</td>\n",
       "      <td>9.972036e+06</td>\n",
       "      <td>3A</td>\n",
       "    </tr>\n",
       "    <tr>\n",
       "      <th>64070</th>\n",
       "      <td>United Arab Emirates</td>\n",
       "      <td>2009</td>\n",
       "      <td>225</td>\n",
       "      <td>EFConsPerCap</td>\n",
       "      <td>9.940415e-01</td>\n",
       "      <td>3.940446e-01</td>\n",
       "      <td>0.3300169</td>\n",
       "      <td>2.581508e-01</td>\n",
       "      <td>0.000000e+00</td>\n",
       "      <td>9.089021</td>\n",
       "      <td>1.106528e+01</td>\n",
       "      <td>3A</td>\n",
       "    </tr>\n",
       "    <tr>\n",
       "      <th>71443</th>\n",
       "      <td>China</td>\n",
       "      <td>1980</td>\n",
       "      <td>351</td>\n",
       "      <td>AreaTotHA</td>\n",
       "      <td>1.002190e+08</td>\n",
       "      <td>3.283000e+08</td>\n",
       "      <td>168005589.0</td>\n",
       "      <td>1.352290e+08</td>\n",
       "      <td>2.251980e+07</td>\n",
       "      <td>0.000000</td>\n",
       "      <td>7.542734e+08</td>\n",
       "      <td>3A</td>\n",
       "    </tr>\n",
       "    <tr>\n",
       "      <th>18699</th>\n",
       "      <td>El Salvador</td>\n",
       "      <td>2001</td>\n",
       "      <td>60</td>\n",
       "      <td>BiocapTotGHA</td>\n",
       "      <td>1.657349e+06</td>\n",
       "      <td>8.942484e+05</td>\n",
       "      <td>323222.7963</td>\n",
       "      <td>7.144222e+05</td>\n",
       "      <td>2.716779e+05</td>\n",
       "      <td>0.000000</td>\n",
       "      <td>3.860920e+06</td>\n",
       "      <td>3A</td>\n",
       "    </tr>\n",
       "    <tr>\n",
       "      <th>46244</th>\n",
       "      <td>Norway</td>\n",
       "      <td>1996</td>\n",
       "      <td>162</td>\n",
       "      <td>BiocapPerCap</td>\n",
       "      <td>3.952862e-01</td>\n",
       "      <td>6.865326e-01</td>\n",
       "      <td>4.192213107</td>\n",
       "      <td>3.520076e+00</td>\n",
       "      <td>5.998642e-02</td>\n",
       "      <td>0.000000</td>\n",
       "      <td>8.854094e+00</td>\n",
       "      <td>3A</td>\n",
       "    </tr>\n",
       "  </tbody>\n",
       "</table>\n",
       "<p>590 rows × 12 columns</p>\n",
       "</div>"
      ],
      "text/plain": [
       "                    country  year  country_code        record     crop_land  \\\n",
       "1536                Algeria  2016             4    AreaPerCap  2.072989e-01   \n",
       "1537                Algeria  2016             4     AreaTotHA  8.417600e+06   \n",
       "1538                Algeria  2016             4  BiocapPerCap  2.021916e-01   \n",
       "1539                Algeria  2016             4  BiocapTotGHA  8.210214e+06   \n",
       "1540                Algeria  2016             4  EFConsPerCap  6.280528e-01   \n",
       "...                     ...   ...           ...           ...           ...   \n",
       "56631               Somalia  1984           201  EFConsTotGHA  1.184389e+06   \n",
       "64070  United Arab Emirates  2009           225  EFConsPerCap  9.940415e-01   \n",
       "71443                 China  1980           351     AreaTotHA  1.002190e+08   \n",
       "18699           El Salvador  2001            60  BiocapTotGHA  1.657349e+06   \n",
       "46244                Norway  1996           162  BiocapPerCap  3.952862e-01   \n",
       "\n",
       "       grazing_land  forest_land  fishing_ground  built_up_land  \\\n",
       "1536   8.112722e-01  0.048357265    2.258528e-02   2.998367e-02   \n",
       "1537   3.294260e+07      1963600    9.171000e+05   1.217520e+06   \n",
       "1538   2.636077e-01  0.027166736    7.947991e-03   2.924496e-02   \n",
       "1539   1.070408e+07  1103135.245    3.227369e+05   1.187524e+06   \n",
       "1540   1.810332e-01  0.162800822    1.472910e-02   2.924496e-02   \n",
       "...             ...          ...             ...            ...   \n",
       "56631  5.775389e+06  2267922.949    2.925310e+04   2.985595e+05   \n",
       "64070  3.940446e-01    0.3300169    2.581508e-01   0.000000e+00   \n",
       "71443  3.283000e+08  168005589.0    1.352290e+08   2.251980e+07   \n",
       "18699  8.942484e+05  323222.7963    7.144222e+05   2.716779e+05   \n",
       "46244  6.865326e-01  4.192213107    3.520076e+00   5.998642e-02   \n",
       "\n",
       "              carbon         total QScore  \n",
       "1536        0.000000  1.119497e+00     2A  \n",
       "1537        0.000000  4.545842e+07     2A  \n",
       "1538        0.000000  5.301590e-01     2A  \n",
       "1539        0.000000  2.152769e+07     2A  \n",
       "1540        1.391455  2.407316e+00     2A  \n",
       "...              ...           ...    ...  \n",
       "56631  416523.235300  9.972036e+06     3A  \n",
       "64070       9.089021  1.106528e+01     3A  \n",
       "71443       0.000000  7.542734e+08     3A  \n",
       "18699       0.000000  3.860920e+06     3A  \n",
       "46244       0.000000  8.854094e+00     3A  \n",
       "\n",
       "[590 rows x 12 columns]"
      ]
     },
     "execution_count": 51,
     "metadata": {},
     "output_type": "execute_result"
    }
   ],
   "source": [
    "df_2A = df[df.QScore== '2A' ]\n",
    "df_3A = df[df.QScore== '3A' ].sample( 350 )\n",
    "data_df = df_2A.append(df_3A) \n",
    "data_df"
   ]
  },
  {
   "cell_type": "code",
   "execution_count": 52,
   "id": "5552b7c4",
   "metadata": {},
   "outputs": [
    {
     "data": {
      "text/plain": [
       "3A    350\n",
       "2A    240\n",
       "Name: QScore, dtype: int64"
      ]
     },
     "execution_count": 52,
     "metadata": {},
     "output_type": "execute_result"
    }
   ],
   "source": [
    "data_df = sklearn.utils.shuffle(data_df)\n",
    "data_df = data_df.reset_index(drop= True )\n",
    "data_df.shape\n",
    "data_df.QScore.value_counts() "
   ]
  },
  {
   "cell_type": "code",
   "execution_count": 53,
   "id": "b643b438",
   "metadata": {},
   "outputs": [],
   "source": [
    "data_df = data_df.drop(columns=[ 'country_code' , 'country' , 'year' ]) "
   ]
  },
  {
   "cell_type": "code",
   "execution_count": 54,
   "id": "9f5c8a44",
   "metadata": {},
   "outputs": [],
   "source": [
    "X = data_df.drop(columns= 'QScore' )\n",
    "y = data_df[ 'QScore' ] "
   ]
  },
  {
   "cell_type": "code",
   "execution_count": 55,
   "id": "be727293",
   "metadata": {},
   "outputs": [
    {
     "data": {
      "text/plain": [
       "3A    251\n",
       "2A    162\n",
       "Name: QScore, dtype: int64"
      ]
     },
     "execution_count": 55,
     "metadata": {},
     "output_type": "execute_result"
    }
   ],
   "source": [
    "#split the data into training and testing sets\n",
    "x_train, x_test, y_train, y_test = train_test_split(X, y, test_size= 0.3 , random_state= 0 )\n",
    "y_train.value_counts() \n"
   ]
  },
  {
   "cell_type": "code",
   "execution_count": 56,
   "id": "1d415128",
   "metadata": {},
   "outputs": [],
   "source": [
    "#encode categorical variable \n",
    "encoder = LabelEncoder()\n",
    "x_train.record = encoder.fit_transform(x_train.record)\n",
    "x_test.record = encoder.transform(x_test.record) "
   ]
  },
  {
   "cell_type": "code",
   "execution_count": 15,
   "id": "8a167f48",
   "metadata": {},
   "outputs": [],
   "source": [
    "smote = SMOTE(random_state= 1 )\n",
    "x_train_balanced, y_balanced = smote.fit_resample(x_train, y_train) \n"
   ]
  },
  {
   "cell_type": "code",
   "execution_count": 16,
   "id": "472d207c",
   "metadata": {},
   "outputs": [],
   "source": [
    "scaler = MinMaxScaler()\n",
    "normalised_train_df = scaler.fit_transform(x_train_balanced.drop(columns=['record']))\n",
    "normalised_train_df = pd.DataFrame(normalised_train_df,\n",
    "columns=x_train_balanced.drop(columns=[ 'record' ]).columns)\n",
    "normalised_train_df[ 'record' ] = x_train_balanced[ 'record' ] \n"
   ]
  },
  {
   "cell_type": "code",
   "execution_count": 17,
   "id": "2654a377",
   "metadata": {},
   "outputs": [
    {
     "name": "stdout",
     "output_type": "stream",
     "text": [
      "(177, 8)\n",
      "(177, 7)\n",
      "(177, 7)\n",
      "(177, 8)\n"
     ]
    }
   ],
   "source": [
    "x_test = x_test.reset_index(drop= True )\n",
    "print(x_test.shape)\n",
    "normalised_test_df = scaler.transform(x_test.drop(columns=[ 'record' ]))\n",
    "print(normalised_test_df.shape)\n",
    "normalised_test_df = pd.DataFrame(normalised_test_df,columns=x_test.drop(columns=[ 'record' ]).columns)\n",
    "print(normalised_test_df.shape)\n",
    "normalised_test_df[ 'record' ] = x_test[ 'record' ] \n",
    "print(normalised_test_df.shape)\n"
   ]
  },
  {
   "cell_type": "code",
   "execution_count": null,
   "id": "55869be5",
   "metadata": {},
   "outputs": [],
   "source": []
  },
  {
   "cell_type": "code",
   "execution_count": 18,
   "id": "08bdc782",
   "metadata": {},
   "outputs": [
    {
     "data": {
      "text/plain": [
       "(177, 8)"
      ]
     },
     "execution_count": 18,
     "metadata": {},
     "output_type": "execute_result"
    }
   ],
   "source": [
    "x_test.shape"
   ]
  },
  {
   "cell_type": "code",
   "execution_count": null,
   "id": "ad3e67df",
   "metadata": {},
   "outputs": [],
   "source": []
  },
  {
   "cell_type": "code",
   "execution_count": 19,
   "id": "116f0f69",
   "metadata": {},
   "outputs": [
    {
     "data": {
      "text/plain": [
       "LogisticRegression()"
      ]
     },
     "execution_count": 19,
     "metadata": {},
     "output_type": "execute_result"
    }
   ],
   "source": [
    "# Logistic Regression\n",
    "\n",
    "log_reg = LogisticRegression()\n",
    "log_reg.fit(normalised_train_df, y_balanced) \n"
   ]
  },
  {
   "cell_type": "code",
   "execution_count": 20,
   "id": "d9daa106",
   "metadata": {},
   "outputs": [],
   "source": [
    "# K-Fold Cross validation"
   ]
  },
  {
   "cell_type": "code",
   "execution_count": 21,
   "id": "09f8de7e",
   "metadata": {},
   "outputs": [
    {
     "data": {
      "text/plain": [
       "array([0.42527174, 0.4265252 , 0.46420429, 0.4678442 , 0.52122241])"
      ]
     },
     "execution_count": 21,
     "metadata": {},
     "output_type": "execute_result"
    }
   ],
   "source": [
    "scores =  cross_val_score(log_reg, normalised_train_df, y_balanced, cv =5, scoring = 'f1_macro')\n",
    "scores"
   ]
  },
  {
   "cell_type": "code",
   "execution_count": 22,
   "id": "6a324135",
   "metadata": {},
   "outputs": [],
   "source": [
    "kf = KFold(n_splits =5)\n",
    "kf.split(normalised_train_df)\n",
    "f1_scores = []\n",
    "\n",
    "for train_index, test_index in kf.split(normalised_train_df):\n",
    "    x_Train, x_Test = normalised_train_df.iloc[train_index], normalised_train_df.iloc[test_index]\n",
    "    y_Train, y_Test = y_balanced[train_index], y_balanced[test_index]\n",
    "    model = LogisticRegression().fit(x_Train, y_Train)\n",
    "    \n",
    "    f1_scores.append(f1_score(y_true=y_Test, y_pred =model.predict(x_Test), pos_label = '2A')*100)"
   ]
  },
  {
   "cell_type": "code",
   "execution_count": 23,
   "id": "2e9e1f0a",
   "metadata": {},
   "outputs": [],
   "source": [
    "# Stratified KFold"
   ]
  },
  {
   "cell_type": "code",
   "execution_count": 24,
   "id": "68f7018f",
   "metadata": {},
   "outputs": [],
   "source": [
    "skf = StratifiedKFold(n_splits=5, shuffle=True, random_state=1)\n",
    "f1_scores = []\n",
    "\n",
    "for train_index, test_index in skf.split(normalised_train_df, y_balanced):\n",
    "    x_Train, x_Test = np.array(normalised_train_df)[train_index], np.array(normalised_train_df)[test_index]\n",
    "    y_Train, y_Test = y_balanced[train_index], y_balanced[test_index]\n",
    "    model = LogisticRegression().fit(x_Train, y_Train)\n",
    "    \n",
    "    f1_scores.append(f1_score(y_true=y_Test, y_pred=model.predict(x_Test), pos_label='2A'))"
   ]
  },
  {
   "cell_type": "code",
   "execution_count": 25,
   "id": "2bb7fd9a",
   "metadata": {},
   "outputs": [],
   "source": [
    "# Leave One Out Cross Validation (LOOCV)"
   ]
  },
  {
   "cell_type": "code",
   "execution_count": 26,
   "id": "f0d8b580",
   "metadata": {},
   "outputs": [
    {
     "data": {
      "text/plain": [
       "44.8936170212766"
      ]
     },
     "execution_count": 26,
     "metadata": {},
     "output_type": "execute_result"
    }
   ],
   "source": [
    "loo = LeaveOneOut()\n",
    "scores = cross_val_score(LogisticRegression(), normalised_train_df, y_balanced, cv=loo, scoring='f1_macro')\n",
    "average_score = scores.mean()*100\n",
    "average_score"
   ]
  },
  {
   "cell_type": "code",
   "execution_count": 27,
   "id": "6f4fc56e",
   "metadata": {},
   "outputs": [],
   "source": [
    "# Accuracy"
   ]
  },
  {
   "cell_type": "code",
   "execution_count": 28,
   "id": "f821250b",
   "metadata": {},
   "outputs": [
    {
     "name": "stdout",
     "output_type": "stream",
     "text": [
      "Shape of y_test: (177,)\n",
      "Shape of x_test: (177, 8)\n"
     ]
    },
    {
     "data": {
      "text/plain": [
       "(177, 8)"
      ]
     },
     "execution_count": 28,
     "metadata": {},
     "output_type": "execute_result"
    }
   ],
   "source": [
    "print(\"Shape of y_test:\", y_test.shape)\n",
    "print(\"Shape of x_test:\", x_test.shape)\n",
    "# print(\"Shape of new_predictions:\", new_predictions.shape)\n",
    "normalised_test_df.shape"
   ]
  },
  {
   "cell_type": "code",
   "execution_count": 29,
   "id": "adb394b2",
   "metadata": {},
   "outputs": [
    {
     "data": {
      "text/plain": [
       "array([[41, 21],\n",
       "       [70, 45]], dtype=int64)"
      ]
     },
     "execution_count": 29,
     "metadata": {},
     "output_type": "execute_result"
    }
   ],
   "source": [
    "new_predictions = log_reg.predict(normalised_test_df)\n",
    "cnf_mat = confusion_matrix(y_true=y_test, y_pred=new_predictions, labels=[ '2A' , '3A' ])\n",
    "cnf_mat "
   ]
  },
  {
   "cell_type": "code",
   "execution_count": 30,
   "id": "b9f734c5",
   "metadata": {},
   "outputs": [
    {
     "data": {
      "text/plain": [
       "0.4858757062146893"
      ]
     },
     "execution_count": 30,
     "metadata": {},
     "output_type": "execute_result"
    }
   ],
   "source": [
    "accuracy = accuracy_score(y_true=y_test, y_pred=new_predictions)\n",
    "accuracy"
   ]
  },
  {
   "cell_type": "code",
   "execution_count": 31,
   "id": "320201d6",
   "metadata": {},
   "outputs": [
    {
     "data": {
      "text/plain": [
       "0.36936936936936937"
      ]
     },
     "execution_count": 31,
     "metadata": {},
     "output_type": "execute_result"
    }
   ],
   "source": [
    "precision = precision_score(y_true = y_test, y_pred = new_predictions, pos_label='2A')\n",
    "precision"
   ]
  },
  {
   "cell_type": "code",
   "execution_count": 33,
   "id": "32cbe77e",
   "metadata": {},
   "outputs": [
    {
     "data": {
      "text/plain": [
       "0.6612903225806451"
      ]
     },
     "execution_count": 33,
     "metadata": {},
     "output_type": "execute_result"
    }
   ],
   "source": [
    "recall = recall_score(y_true=y_test, y_pred = new_predictions, pos_label='2A')\n",
    "recall"
   ]
  },
  {
   "cell_type": "code",
   "execution_count": 34,
   "id": "ab714826",
   "metadata": {},
   "outputs": [
    {
     "data": {
      "text/plain": [
       "0.4739884393063583"
      ]
     },
     "execution_count": 34,
     "metadata": {},
     "output_type": "execute_result"
    }
   ],
   "source": [
    "f1 = f1_score(y_true=y_test, y_pred= new_predictions, pos_label='2A')\n",
    "f1"
   ]
  },
  {
   "cell_type": "code",
   "execution_count": 36,
   "id": "36f29761",
   "metadata": {},
   "outputs": [],
   "source": [
    "# Decision Tree"
   ]
  },
  {
   "cell_type": "code",
   "execution_count": 37,
   "id": "e098e855",
   "metadata": {},
   "outputs": [
    {
     "data": {
      "text/plain": [
       "DecisionTreeClassifier()"
      ]
     },
     "execution_count": 37,
     "metadata": {},
     "output_type": "execute_result"
    }
   ],
   "source": [
    "dec_tree = DecisionTreeClassifier()\n",
    "dec_tree.fit(normalised_train_df, y_balanced)"
   ]
  },
  {
   "cell_type": "code",
   "execution_count": null,
   "id": "d71bafe1",
   "metadata": {},
   "outputs": [],
   "source": []
  },
  {
   "cell_type": "code",
   "execution_count": null,
   "id": "2880cf54",
   "metadata": {},
   "outputs": [],
   "source": []
  },
  {
   "cell_type": "code",
   "execution_count": null,
   "id": "7a88e4eb",
   "metadata": {},
   "outputs": [],
   "source": [
    "# Question 2"
   ]
  },
  {
   "cell_type": "code",
   "execution_count": 38,
   "id": "cacf7dc6",
   "metadata": {},
   "outputs": [],
   "source": [
    "TP = 255\n",
    "TN = 20\n",
    "FP = 1380\n",
    "FN =45"
   ]
  },
  {
   "cell_type": "code",
   "execution_count": 40,
   "id": "a974b219",
   "metadata": {},
   "outputs": [
    {
     "data": {
      "text/plain": [
       "0.2635658914728682"
      ]
     },
     "execution_count": 40,
     "metadata": {},
     "output_type": "execute_result"
    }
   ],
   "source": [
    "Accuracy = (TP + TN) / (TP + TN + FP + FN)\n",
    "Recall = TP / (TP + FN)\n",
    "Precision = TP / (TP + FP)\n",
    "\n",
    "F1_Score = 2 * (Precision * Recall) / (Precision + Recall)\n",
    "F1_Score"
   ]
  },
  {
   "cell_type": "code",
   "execution_count": null,
   "id": "9b9b6872",
   "metadata": {},
   "outputs": [],
   "source": [
    "# Question 3"
   ]
  },
  {
   "cell_type": "code",
   "execution_count": null,
   "id": "4f706df8",
   "metadata": {},
   "outputs": [],
   "source": []
  },
  {
   "cell_type": "code",
   "execution_count": 57,
   "id": "65ecc1a7",
   "metadata": {},
   "outputs": [
    {
     "name": "stdout",
     "output_type": "stream",
     "text": [
      "Accuracy on the test set: 0.7288\n"
     ]
    }
   ],
   "source": [
    "from sklearn.ensemble import RandomForestClassifier\n",
    "from sklearn.metrics import accuracy_score\n",
    "\n",
    "# Assuming you have already trained and obtained the random forest classifier 'rf' and the test set 'X_test'\n",
    "# Make predictions on the test set\n",
    "rf = RandomForestClassifier()\n",
    "rf.fit(x_train, y_train) \n",
    "\n",
    "# Make predictions on the test set\n",
    "y_pred = rf.predict(x_test)\n",
    "\n",
    "# Calculate accuracy\n",
    "accuracy = accuracy_score(y_test, y_pred)\n",
    "print(\"Accuracy on the test set: {:.4f}\".format(accuracy))"
   ]
  },
  {
   "cell_type": "code",
   "execution_count": null,
   "id": "b8dd4ac9",
   "metadata": {},
   "outputs": [],
   "source": []
  },
  {
   "cell_type": "code",
   "execution_count": 60,
   "id": "2240e2ff",
   "metadata": {},
   "outputs": [
    {
     "name": "stdout",
     "output_type": "stream",
     "text": [
      "Fitting 5 folds for each of 10 candidates, totalling 50 fits\n",
      "Best Hyperparameters: {'n_estimators': 100, 'min_samples_split': 5, 'min_samples_leaf': 8, 'max_features': None}\n"
     ]
    }
   ],
   "source": [
    "from sklearn.ensemble import ExtraTreesClassifier\n",
    "from sklearn.model_selection import RandomizedSearchCV\n",
    "\n",
    "param_grid = {\n",
    "    'n_estimators': [100, 500, 300, 1000],\n",
    "    'min_samples_split': [7, 2, 5, 2],\n",
    "    'min_samples_leaf': [4, 8, 6, 8],\n",
    "    'max_features': [None, 'log2', 'auto', None]\n",
    "}\n",
    "\n",
    "\n",
    "estimator = ExtraTreesClassifier(random_state=1)\n",
    "\n",
    "random_search = RandomizedSearchCV(estimator=estimator, param_distributions=param_grid,\n",
    "                                   scoring='accuracy', cv=5, n_iter=10,\n",
    "                                   n_jobs=-1, verbose=1, random_state=1)\n",
    "\n",
    "random_search.fit(x_train, y_train)\n",
    "\n",
    "print(\"Best Hyperparameters:\", random_search.best_params_)"
   ]
  },
  {
   "cell_type": "code",
   "execution_count": 62,
   "id": "80f80819",
   "metadata": {},
   "outputs": [
    {
     "data": {
      "text/plain": [
       "0.6384180790960452"
      ]
     },
     "execution_count": 62,
     "metadata": {},
     "output_type": "execute_result"
    }
   ],
   "source": [
    "selected_hyperparameters = {\n",
    "    'n_estimators': 100,\n",
    "    'min_samples_split': 5,\n",
    "    'min_samples_leaf': 8,\n",
    "    'max_features': None\n",
    "}\n",
    "\n",
    "\n",
    "model = ExtraTreesClassifier(random_state=1, **selected_hyperparameters)\n",
    "\n",
    "# Fit the model on the training data\n",
    "model.fit(x_train, y_train)\n",
    "\n",
    "# Make predictions on the test set\n",
    "y_pred = model.predict(x_test)\n",
    "\n",
    "# Calculate the accuracy of the model\n",
    "accuracy = accuracy_score(y_test, y_pred)\n",
    "accuracy"
   ]
  },
  {
   "cell_type": "code",
   "execution_count": 68,
   "id": "aa22beb9",
   "metadata": {},
   "outputs": [],
   "source": [
    "importances = model.feature_importances_\n",
    "most_important_index = np.argmax(importances)\n",
    "least_important_index = np.argmin(importances)\n",
    "\n"
   ]
  },
  {
   "cell_type": "code",
   "execution_count": 69,
   "id": "403f83e1",
   "metadata": {},
   "outputs": [
    {
     "data": {
      "text/plain": [
       "'crop_land'"
      ]
     },
     "execution_count": 69,
     "metadata": {},
     "output_type": "execute_result"
    }
   ],
   "source": [
    "x_test.columns[most_important_index]"
   ]
  },
  {
   "cell_type": "code",
   "execution_count": 70,
   "id": "03393db1",
   "metadata": {},
   "outputs": [
    {
     "data": {
      "text/plain": [
       "'grazing_land'"
      ]
     },
     "execution_count": 70,
     "metadata": {},
     "output_type": "execute_result"
    }
   ],
   "source": [
    "x_test.columns[least_important_index]"
   ]
  },
  {
   "cell_type": "code",
   "execution_count": 71,
   "id": "08dedf27",
   "metadata": {},
   "outputs": [
    {
     "data": {
      "text/plain": [
       "Index(['record', 'crop_land', 'grazing_land', 'forest_land', 'fishing_ground',\n",
       "       'built_up_land', 'carbon', 'total'],\n",
       "      dtype='object')"
      ]
     },
     "execution_count": 71,
     "metadata": {},
     "output_type": "execute_result"
    }
   ],
   "source": [
    "x_test.columns"
   ]
  },
  {
   "cell_type": "code",
   "execution_count": null,
   "id": "a6d6f43a",
   "metadata": {},
   "outputs": [],
   "source": []
  }
 ],
 "metadata": {
  "kernelspec": {
   "display_name": "Python 3",
   "language": "python",
   "name": "python3"
  },
  "language_info": {
   "codemirror_mode": {
    "name": "ipython",
    "version": 3
   },
   "file_extension": ".py",
   "mimetype": "text/x-python",
   "name": "python",
   "nbconvert_exporter": "python",
   "pygments_lexer": "ipython3",
   "version": "3.9.12"
  }
 },
 "nbformat": 4,
 "nbformat_minor": 5
}
